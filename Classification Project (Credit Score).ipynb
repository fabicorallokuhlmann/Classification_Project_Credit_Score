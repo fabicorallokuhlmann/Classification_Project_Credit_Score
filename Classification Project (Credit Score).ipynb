{
 "cells": [
  {
   "cell_type": "code",
   "execution_count": null,
   "id": "bfc000bf",
   "metadata": {},
   "outputs": [],
   "source": [
    "#importando as bibliotecas necessárias para a análise\n",
    "pip install scikit-learn"
   ]
  },
  {
   "cell_type": "code",
   "execution_count": null,
   "id": "54ceabc9",
   "metadata": {},
   "outputs": [],
   "source": [
    "#importando a base de dados\n",
    "import pandas as pd\n",
    "tabela = pd.read_csv(\"clientes.csv\")\n",
    "display(tabela)"
   ]
  },
  {
   "cell_type": "code",
   "execution_count": null,
   "id": "e75972ce",
   "metadata": {},
   "outputs": [],
   "source": [
    "#identificando se há valores vazios ou em formato errado\n",
    "display(tabela.info())\n",
    "print(tabela.columns)"
   ]
  },
  {
   "cell_type": "code",
   "execution_count": null,
   "id": "c95c373f",
   "metadata": {},
   "outputs": [],
   "source": [
    "# a IA apenas consegue entender números e não textos. Portanto as colunas de texto precisam ser alteradas para números\n",
    "# para usar uma inteligência artificial são necessários 3 passos: importar, criar e treinar\n",
    "from sklearn.preprocessing import LabelEncoder\n",
    "\n",
    "# vai transformar as colunas de texto em números\n",
    "codificador = LabelEncoder()\n",
    "\n",
    "# apenas a coluna de score_credito que não será alterada, uma vez é o foco da análise\n",
    "tabela[\"profissao\"] = codificador.fit_transform(tabela[\"profissao\"])\n",
    "tabela[\"mix_credito\"] = codificador.fit_transform(tabela[\"mix_credito\"])\n",
    "tabela[\"comportamento_pagamento\"] = codificador.fit_transform(tabela[\"comportamento_pagamento\"])\n",
    "\n",
    "# verificando se realmente todas as colunas foram modificadas\n",
    "display(tabela.info())"
   ]
  },
  {
   "cell_type": "code",
   "execution_count": null,
   "id": "873f3aec",
   "metadata": {},
   "outputs": [],
   "source": [
    "# escolha de quais colunas serão usadas para treinar o modelo, lembrando que\n",
    "# y é a coluna que queremos que o modelo calcule\n",
    "# x vai todas as colunas que vamos usar para prever o score de credito\n",
    "\n",
    "#coluna a ser calculada (prevista)\n",
    "y = tabela[\"score_credito\"]\n",
    "\n",
    "#retirada das colunas que não serão usadas na previsão e deixando apenas as que contribuem. O score_credito é a que vai ser calculada\n",
    "x = tabela.drop(['score_credito', 'id_cliente'], axis=1)\n",
    "\n",
    "from sklearn.model_selection import train_test_split\n",
    "\n",
    "# separando os dados em treino e teste. 70% de treino para os modelos aprenderem e 30% de teste para observar se o modelo aprendeu corretamente\n",
    "x_treino, x_teste, y_treino, y_teste = train_test_split(x,y) #70% para treino e 30% para teste\n",
    "x_treino, x_teste, y_treino, y_teste = train_test_split(x, y, test_size=0.3, random_state=1)"
   ]
  },
  {
   "cell_type": "code",
   "execution_count": null,
   "id": "de3243f9",
   "metadata": {},
   "outputs": [],
   "source": [
    "# modelos selecionados para fazer o teste: Random Forest, árvore de decisão e KNN - nearest neighbors\n",
    "\n",
    "from sklearn.ensemble import RandomForestClassifier \n",
    "from sklearn.neighbors import KNeighborsClassifier\n",
    "from sklearn.tree import DecisionTreeClassifier\n",
    "\n",
    "modelo_forest = RandomForestClassifier() # modelo de Random Forest\n",
    "modelo_knn = KNeighborsClassifier() # modelo do KNN (nearest neighbors - vizinhos mais proximos)\n",
    "modelo_arvore = DecisionTreeClassifier() # modelo árvore de decisao \n",
    "\n",
    "# treinando os modelos\n",
    "modelo_forest.fit(x_treino,y_treino) \n",
    "modelo_knn.fit(x_treino, y_treino)\n",
    "modelo_arvore.fit(x_treino, y_treino)"
   ]
  },
  {
   "cell_type": "code",
   "execution_count": null,
   "id": "cc16b746",
   "metadata": {},
   "outputs": [],
   "source": [
    "from sklearn.metrics import accuracy_score\n",
    "\n",
    "# calculando as previsões\n",
    "previsao_forest = modelo_forest.predict(x_teste)\n",
    "previsao_knn = modelo_knn.predict(x_teste.to_numpy())\n",
    "previsao_arvore = modelo_arvore.predict(x_teste)\n",
    "\n",
    "# comparando as previsões com o y_teste\n",
    "print(accuracy_score(y_teste, previsao_forest))\n",
    "print(accuracy_score(y_teste, previsao_knn))\n",
    "print(accuracy_score(y_teste, previsao_arvore))\n",
    "\n",
    "#melhor modelo para esse projeto = Random Forest\n",
    "#83% de acurácia"
   ]
  },
  {
   "cell_type": "code",
   "execution_count": null,
   "id": "79eecfe9",
   "metadata": {},
   "outputs": [],
   "source": [
    "# executando novas previsões\n",
    "\n",
    "novos_clientes = pd.read_csv(\"novos_clientes.csv\")\n",
    "codificador = LabelEncoder()\n",
    "for coluna in novos_clientes.columns:\n",
    "    if novos_clientes[coluna].dtype == \"object\" and coluna != \"score_credito\":\n",
    "        novos_clientes[coluna] = codificador.fit_transform(novos_clientes[coluna])\n",
    "print(novos_clientes.info())"
   ]
  },
  {
   "cell_type": "code",
   "execution_count": null,
   "id": "d227d937",
   "metadata": {},
   "outputs": [],
   "source": [
    "#processo de previsão\n",
    "previsao = modelo_forest.predict(novos_clientes)\n",
    "display(novos_clientes)\n",
    "print(previsao)"
   ]
  },
  {
   "cell_type": "code",
   "execution_count": null,
   "id": "66f602bd",
   "metadata": {},
   "outputs": [],
   "source": [
    "# quais os principais fatores levados em conta para definir o score de crédito?\n",
    "colunas = list(x_teste.columns)\n",
    "importancia = pd.DataFrame(index=colunas, data=modelo_forest.feature_importances_)\n",
    "importancia = importancia * 100\n",
    "print(importancia)"
   ]
  }
 ],
 "metadata": {
  "kernelspec": {
   "display_name": "Python 3 (ipykernel)",
   "language": "python",
   "name": "python3"
  },
  "language_info": {
   "codemirror_mode": {
    "name": "ipython",
    "version": 3
   },
   "file_extension": ".py",
   "mimetype": "text/x-python",
   "name": "python",
   "nbconvert_exporter": "python",
   "pygments_lexer": "ipython3",
   "version": "3.11.4"
  }
 },
 "nbformat": 4,
 "nbformat_minor": 5
}
