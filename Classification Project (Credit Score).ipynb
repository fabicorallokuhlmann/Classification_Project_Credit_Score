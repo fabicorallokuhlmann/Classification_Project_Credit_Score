{
 "cells": [
  {
   "cell_type": "code",
   "execution_count": null,
   "id": "bfc000bf",
   "metadata": {},
   "outputs": [],
   "source": [
    "pip install scikit-learn"
   ]
  },
  {
   "cell_type": "code",
   "execution_count": null,
   "id": "54ceabc9",
   "metadata": {},
   "outputs": [],
   "source": [
    "import pandas as pd\n",
    "tabela = pd.read_csv(\"clientes.csv\")\n",
    "display(tabela)"
   ]
  },
  {
   "cell_type": "code",
   "execution_count": null,
   "id": "e75972ce",
   "metadata": {},
   "outputs": [],
   "source": [
    "display(tabela.info())"
   ]
  },
  {
   "cell_type": "code",
   "execution_count": null,
   "id": "c95c373f",
   "metadata": {},
   "outputs": [],
   "source": [
    "from sklearn.preprocessing import LabelEncoder\n",
    "codificador = LabelEncoder()\n",
    "tabela[\"profissao\"] = codificador.fit_transform(tabela[\"profissao\"])\n",
    "tabela[\"mix_credito\"] = codificador.fit_transform(tabela[\"mix_credito\"])\n",
    "tabela[\"comportamento_pagamento\"] = codificador.fit_transform(tabela[\"comportamento_pagamento\"])\n",
    "display(tabela.info())"
   ]
  },
  {
   "cell_type": "code",
   "execution_count": null,
   "id": "873f3aec",
   "metadata": {},
   "outputs": [],
   "source": [
    "#coluna a ser calculada (prevista)\n",
    "y = tabela[\"score_credito\"]\n",
    "\n",
    "#colunas usadas para fazer a previsão\n",
    "x = tabela.drop(['score_credito', 'id_cliente'], axis=1)\n",
    "\n",
    "from sklearn.model_selection import train_test_split\n",
    "x_treino, x_teste, y_treino, y_teste = train_test_split(x,y) #70% para treino e 30% para teste"
   ]
  },
  {
   "cell_type": "code",
   "execution_count": null,
   "id": "de3243f9",
   "metadata": {},
   "outputs": [],
   "source": [
    "#para usar uma inteligência artificial são necessários 3 passos: importar, criar e treinar\n",
    "# árvore de decisão\n",
    "# KNN - nearest neighbors\n",
    "\n",
    "from sklearn.ensemble import RandomForestClassifier\n",
    "from sklearn.neighbors import KNeighborsClassifier\n",
    "\n",
    "modelo_arvore_decisao = RandomForestClassifier()\n",
    "modelo_knn = KNeighborsClassifier()\n",
    "\n",
    "modelo_arvore_decisao.fit(x_treino,y_treino)\n",
    "modelo_knn.fit(x_treino, y_treino)"
   ]
  },
  {
   "cell_type": "code",
   "execution_count": null,
   "id": "cc16b746",
   "metadata": {},
   "outputs": [],
   "source": [
    "from sklearn.metrics import accuracy_score\n",
    "previsao_arvore_decisao = modelo_arvore_decisao.predict(x_teste)\n",
    "previsao_knn = modelo_knn.predict(x_teste.to_numpy())\n",
    "\n",
    "print(accuracy_score(y_teste, previsao_arvore_decisao))\n",
    "print(accuracy_score(y_teste, previsao_knn))"
   ]
  },
  {
   "cell_type": "code",
   "execution_count": null,
   "id": "3b7f017c",
   "metadata": {},
   "outputs": [],
   "source": [
    "#melhor modelo para esse projeto = árvore de decisão\n",
    "#83% de acurácia"
   ]
  },
  {
   "cell_type": "code",
   "execution_count": null,
   "id": "79eecfe9",
   "metadata": {},
   "outputs": [],
   "source": [
    "novos_clientes = pd.read_csv(\"novos_clientes.csv\")\n",
    "codificador = LabelEncoder()\n",
    "novos_clientes[\"profissao\"] = codificador.fit_transform(novos_clientes[\"profissao\"])\n",
    "novos_clientes[\"mix_credito\"] = codificador.fit_transform(novos_clientes[\"mix_credito\"])\n",
    "novos_clientes[\"comportamento_pagamento\"] = codificador.fit_transform(novos_clientes[\"comportamento_pagamento\"])\n",
    "print(novos_clientes.info())"
   ]
  },
  {
   "cell_type": "code",
   "execution_count": null,
   "id": "d227d937",
   "metadata": {},
   "outputs": [],
   "source": [
    "#processo de previsão\n",
    "previsao = modelo_arvore_decisao.predict(novos_clientes)\n",
    "display(novos_clientes)\n",
    "print(previsao)"
   ]
  },
  {
   "cell_type": "code",
   "execution_count": null,
   "id": "66f602bd",
   "metadata": {},
   "outputs": [],
   "source": []
  }
 ],
 "metadata": {
  "kernelspec": {
   "display_name": "Python 3 (ipykernel)",
   "language": "python",
   "name": "python3"
  },
  "language_info": {
   "codemirror_mode": {
    "name": "ipython",
    "version": 3
   },
   "file_extension": ".py",
   "mimetype": "text/x-python",
   "name": "python",
   "nbconvert_exporter": "python",
   "pygments_lexer": "ipython3",
   "version": "3.11.4"
  }
 },
 "nbformat": 4,
 "nbformat_minor": 5
}
